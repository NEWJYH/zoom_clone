{
 "cells": [
  {
   "cell_type": "markdown",
   "id": "bc79ea32",
   "metadata": {},
   "source": [
    "# https://socket.io/docs/v4/server-api/"
   ]
  },
  {
   "cell_type": "markdown",
   "id": "3829f7d8",
   "metadata": {},
   "source": [
    "## 01 frontend\n",
    "\n",
    "###### app.js\n",
    "```javascript\n",
    "const socket = io();\n",
    "\n",
    "const welcome = document.querySelector(\"#welcome\");\n",
    "const form = welcome.querySelector(\"form\");\n",
    "const room = document.getElementById(\"room\");\n",
    "room.hidden = true;\n",
    "\n",
    "let roomName;\n",
    "\n",
    "form.addEventListener(\"submit\", (event) => {\n",
    "  event.preventDefault();\n",
    "  const input = form.querySelector(\"input\");\n",
    "  socket.emit(\"enter_room\", input.value, () => {\n",
    "    welcome.hidden = true;\n",
    "    room.hidden = false;\n",
    "    const h3 = room.querySelector(\"h3\");\n",
    "    h3.innerText = `Room ${roomName}`;\n",
    "  });\n",
    "  roomName = input.value;\n",
    "  input.value = \"\";\n",
    "});\n",
    "\n",
    "\n",
    "```"
   ]
  },
  {
   "cell_type": "markdown",
   "id": "0ef226ba",
   "metadata": {},
   "source": [
    "###### home.pug\n",
    "```pug\n",
    "\n",
    "doctype html\n",
    "html(lang=\"en\")\n",
    "  head\n",
    "    meta(charset=\"UTF-8\")\n",
    "    meta(http-equiv=\"X-UA-Compatible\", content=\"IE=edge\")\n",
    "    meta(name=\"viewport\", content=\"width=device-width, initial-scale=1.0\")\n",
    "    title Joom\n",
    "    //- MVP CSS 사용\n",
    "    link(rel=\"stylesheet\", href=\"https://unpkg.com/mvp.css@1.12/mvp.css\") \n",
    "  body \n",
    "    header\n",
    "      h1 Joom \n",
    "    main \n",
    "      div#welcome\n",
    "        form \n",
    "          input(placeholder=\"room name\", required, type='text')\n",
    "          button Enter Room\n",
    "      div#room\n",
    "        h3 \n",
    "        ul \n",
    "        form \n",
    "          input(placeholder=\"message\", required, type='text')\n",
    "          button Send\n",
    "\n",
    "\n",
    "    script(src=\"/socket.io/socket.io.js\")\n",
    "    script(src=\"/public/js/app.js\") \n",
    "```"
   ]
  },
  {
   "cell_type": "markdown",
   "id": "368d5b46",
   "metadata": {},
   "source": [
    "---"
   ]
  },
  {
   "cell_type": "markdown",
   "id": "34cece26",
   "metadata": {},
   "source": [
    "# 02 backend\n",
    "\n",
    "###### server.js\n",
    "\n",
    "```javascript\n",
    "import express from \"express\";\n",
    "import http from \"http\";\n",
    "import SocketIO from \"socket.io\";\n",
    "\n",
    "const app = express();\n",
    "const port = 3000;\n",
    "\n",
    "// json file 입출력 설정\n",
    "app.use(express.json());\n",
    "\n",
    "// pug 설정\n",
    "app.set(\"view engine\", \"pug\");\n",
    "app.set(\"views\", __dirname + \"/views\");\n",
    "\n",
    "// static 작업\n",
    "app.use(\"/public\", express.static(__dirname + \"/public\"));\n",
    "\n",
    "// route 설정\n",
    "app.get(\"/\", (_, res) => res.render(\"home\"));\n",
    "app.get(\"/*\", (_, res) => res.redirect(\"/\"));\n",
    "\n",
    "// http server\n",
    "const httpServer = http.createServer(app);\n",
    "\n",
    "// io server\n",
    "const wsServer = SocketIO(httpServer);\n",
    "\n",
    "wsServer.on(\"connection\", (socket) => {\n",
    "  socket.onAny((event) => {\n",
    "    console.log(`Socket Event: ${event}`);\n",
    "  });\n",
    "\n",
    "  socket.on(\"enter_room\", (roomName, done) => {\n",
    "    socket.join(roomName);\n",
    "    done();\n",
    "  });\n",
    "});\n",
    "\n",
    "httpServer.listen(port, () => {\n",
    "  console.log(`Joom app listening on http://localhost:${port}`);\n",
    "});\n",
    "\n",
    "\n",
    "```"
   ]
  },
  {
   "cell_type": "markdown",
   "id": "3ece287d",
   "metadata": {},
   "source": [
    "---"
   ]
  }
 ],
 "metadata": {
  "kernelspec": {
   "display_name": "Python 3 (ipykernel)",
   "language": "python",
   "name": "python3"
  },
  "language_info": {
   "codemirror_mode": {
    "name": "ipython",
    "version": 3
   },
   "file_extension": ".py",
   "mimetype": "text/x-python",
   "name": "python",
   "nbconvert_exporter": "python",
   "pygments_lexer": "ipython3",
   "version": "3.9.13"
  }
 },
 "nbformat": 4,
 "nbformat_minor": 5
}
