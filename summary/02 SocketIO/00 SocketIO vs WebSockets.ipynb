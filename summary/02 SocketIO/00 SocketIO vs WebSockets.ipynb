{
 "cells": [
  {
   "cell_type": "markdown",
   "id": "4cab03a9",
   "metadata": {},
   "source": [
    "# 실시간 기능을 만들어주는 framework socket.io\n",
    "\n",
    "## socket.io \n",
    "\n",
    "https://socket.io/\n",
    "\n",
    "- 나온지 오래 됬고 안정적\n",
    "\n",
    "- 실시간, 양방향, event 기반의 통신을 가능하게 함\n",
    "\n",
    "- socket.io는 websocket을 실행하는게 아님\n",
    "\n",
    "- socket.io는 프론트와 백엔드 간 실시간 통신을 가능하게 해주는 프레임워크 또는 라이브러리\n",
    "\n",
    "- socket.io 실시간 기능 같은 것들을 더 쉽게 만드는 편리한 코드를 제공"
   ]
  }
 ],
 "metadata": {
  "kernelspec": {
   "display_name": "Python 3 (ipykernel)",
   "language": "python",
   "name": "python3"
  },
  "language_info": {
   "codemirror_mode": {
    "name": "ipython",
    "version": 3
   },
   "file_extension": ".py",
   "mimetype": "text/x-python",
   "name": "python",
   "nbconvert_exporter": "python",
   "pygments_lexer": "ipython3",
   "version": "3.9.13"
  }
 },
 "nbformat": 4,
 "nbformat_minor": 5
}
