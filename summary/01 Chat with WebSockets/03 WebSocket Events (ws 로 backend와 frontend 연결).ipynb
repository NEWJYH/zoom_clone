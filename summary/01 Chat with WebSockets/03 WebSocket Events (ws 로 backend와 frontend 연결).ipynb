{
 "cells": [
  {
   "cell_type": "markdown",
   "id": "c3c1655f",
   "metadata": {},
   "source": [
    "# 웹소켓 이벤트"
   ]
  },
  {
   "cell_type": "markdown",
   "id": "69ef8957",
   "metadata": {},
   "source": [
    "## ws를 사용해서 back과 front의 connection(연결) 만들기\n",
    "\n",
    "https://developer.mozilla.org/ko/docs/Web/API/WebSocket\n",
    "\n",
    "- FrontEnd 에서 브라우저가 \n",
    "\n",
    "  이미 webSocket 클라이언트에 대한 implementation(실행)을 갖고 있음\n",
    "  \n",
    "- webSocket을 이용해 BackEnd와 연결하고 싶다면 JS가 해줌\n",
    "\n",
    "- webSocket도 event가 있고, event가 발동될 때 사용할 function을 만들면 됨\n",
    "\n",
    "\n"
   ]
  },
  {
   "cell_type": "markdown",
   "id": "b48b0ac4",
   "metadata": {},
   "source": [
    "### BackEnd server.js\n",
    "```javascript\n",
    "\n",
    "function handleConnection(socket) {\n",
    "  console.log(socket);\n",
    "}\n",
    "// 웹소켓 이벤트\n",
    "wss.on(\"connection\", handleConnection);\n",
    "\n",
    "\n",
    "```\n",
    "\n"
   ]
  },
  {
   "cell_type": "markdown",
   "id": "d238e55b",
   "metadata": {},
   "source": [
    "### FrontEnd app.js\n",
    "\n",
    "```javascript\n",
    "const socket = new WebSocket(`ws://${window.location.host}`);\n",
    "\n",
    "```"
   ]
  },
  {
   "cell_type": "markdown",
   "id": "96b4cb57",
   "metadata": {},
   "source": [
    "---"
   ]
  },
  {
   "cell_type": "markdown",
   "id": "edd0781d",
   "metadata": {},
   "source": [
    "###### server.js\n",
    "```javascript\n",
    "import WebSocket from \"ws\";\n",
    "import http from \"http\";\n",
    "import express from \"express\";\n",
    "\n",
    "const app = express();\n",
    "const port = 3000;\n",
    "\n",
    "// json file 입출력 설정\n",
    "app.use(express.json());\n",
    "\n",
    "// pug 설정\n",
    "app.set(\"view engine\", \"pug\");\n",
    "app.set(\"views\", __dirname + \"/views\");\n",
    "\n",
    "// static 작업\n",
    "app.use(\"/public\", express.static(__dirname + \"/public\"));\n",
    "\n",
    "// route 설정\n",
    "app.get(\"/\", (_, res) => res.render(\"home\"));\n",
    "app.get(\"/*\", (_, res) => res.redirect(\"/\"));\n",
    "\n",
    "// ws 설정\n",
    "const handleListen = () =>\n",
    "  console.log(`Joom app listening on http://localhost:${port}`);\n",
    "const server = http.createServer(app);\n",
    "// http와 webSocket 둘다 작동시키기 위함\n",
    "// WebSocket.Server({server]})를 넘기게 되면 http서버와 webSocket 서버둘다 돌릴수 있음\n",
    "const wss = new WebSocket.Server({ server });\n",
    "// http 서버를 원하지 않는다면 인자로 넘길 필요 없음\n",
    "\n",
    "\n",
    "function handleConnection(socket) {\n",
    "  console.log(socket);\n",
    "}\n",
    "// 웹소켓 이벤트\n",
    "wss.on(\"connection\", handleConnection);\n",
    "\n",
    "\n",
    "\n",
    "\n",
    "\n",
    "server.listen(port, handleListen);\n",
    "\n",
    "```"
   ]
  },
  {
   "cell_type": "markdown",
   "id": "96bf64b4",
   "metadata": {},
   "source": [
    "###### app.js\n",
    "```javascript\n",
    "const socket = new WebSocket(`ws://${window.location.host}`);\n",
    "\n",
    "```\n"
   ]
  }
 ],
 "metadata": {
  "kernelspec": {
   "display_name": "Python 3 (ipykernel)",
   "language": "python",
   "name": "python3"
  },
  "language_info": {
   "codemirror_mode": {
    "name": "ipython",
    "version": 3
   },
   "file_extension": ".py",
   "mimetype": "text/x-python",
   "name": "python",
   "nbconvert_exporter": "python",
   "pygments_lexer": "ipython3",
   "version": "3.9.13"
  }
 },
 "nbformat": 4,
 "nbformat_minor": 5
}
