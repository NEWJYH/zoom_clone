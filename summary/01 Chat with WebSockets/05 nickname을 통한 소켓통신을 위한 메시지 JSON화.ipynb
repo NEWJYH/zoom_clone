{
 "cells": [
  {
   "cell_type": "markdown",
   "id": "0b9ee7d0",
   "metadata": {},
   "source": [
    "###### app.js\n",
    "```javascript\n",
    "\n",
    "const messageList = document.querySelector(\"ul\");\n",
    "const nickForm = document.querySelector(\"#nick\");\n",
    "const messageForm = document.querySelector(\"#message\");\n",
    "const socket = new WebSocket(`ws://${window.location.host}`);\n",
    "\n",
    "function makeMessage(type, payload) {\n",
    "  const msg = { type, payload };\n",
    "  return JSON.stringify(msg);\n",
    "}\n",
    "\n",
    "socket.addEventListener(\"open\", () => {\n",
    "  console.log(\"Connected to Server ✅\");\n",
    "});\n",
    "\n",
    "socket.addEventListener(\"close\", () => {\n",
    "  console.log(\"Disconnected from Server ❌\");\n",
    "});\n",
    "\n",
    "socket.addEventListener(\"message\", (message) => {\n",
    "  const li = document.createElement(\"li\");\n",
    "  li.innerText = message.data.toString();\n",
    "  messageList.append(li);\n",
    "});\n",
    "\n",
    "messageForm.addEventListener(\"submit\", (event) => {\n",
    "  event.preventDefault();\n",
    "  const input = messageForm.querySelector(\"input\");\n",
    "  socket.send(makeMessage(\"message\", input.value));\n",
    "  input.value = \"\";\n",
    "  input.focus();\n",
    "});\n",
    "\n",
    "nickForm.addEventListener(\"submit\", (event) => {\n",
    "  event.preventDefault();\n",
    "  const input = nickForm.querySelector(\"input\");\n",
    "  socket.send(makeMessage(\"nickname\", input.value));\n",
    "});\n",
    "\n",
    "```"
   ]
  },
  {
   "cell_type": "markdown",
   "id": "7ac81d56",
   "metadata": {},
   "source": [
    "- 메세지를 JSON화 시켜서 type을 둠으로써 닉네임과 메시지를 분리함"
   ]
  }
 ],
 "metadata": {
  "kernelspec": {
   "display_name": "Python 3 (ipykernel)",
   "language": "python",
   "name": "python3"
  },
  "language_info": {
   "codemirror_mode": {
    "name": "ipython",
    "version": 3
   },
   "file_extension": ".py",
   "mimetype": "text/x-python",
   "name": "python",
   "nbconvert_exporter": "python",
   "pygments_lexer": "ipython3",
   "version": "3.9.13"
  }
 },
 "nbformat": 4,
 "nbformat_minor": 5
}
