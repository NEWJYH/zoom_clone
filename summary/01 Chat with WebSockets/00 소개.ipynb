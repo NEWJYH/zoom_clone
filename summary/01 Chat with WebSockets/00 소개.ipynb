{
 "cells": [
  {
   "cell_type": "markdown",
   "id": "83e207ac",
   "metadata": {},
   "source": [
    "## 실시간 채팅 어플\n",
    "\n",
    "구현 순서\n",
    "\n",
    "- 1. 송신, 수신\n",
    "\n",
    "- 2. 닉네임 추가\n",
    "\n",
    "- 3. 방 개념\n",
    "\n",
    "\n",
    "### 1. 익명으로 채팅 내용 주고 받기\n",
    "\n",
    "### 2. 닉네임 추가 \n",
    "\n",
    "### 3. 채팅방 개념 추가\n",
    "\n",
    "### 4. 입장, 퇴장 이벤트 추가 \n",
    "\n",
    "### 5. 몇명 접속중인지 확인"
   ]
  }
 ],
 "metadata": {
  "kernelspec": {
   "display_name": "Python 3 (ipykernel)",
   "language": "python",
   "name": "python3"
  },
  "language_info": {
   "codemirror_mode": {
    "name": "ipython",
    "version": 3
   },
   "file_extension": ".py",
   "mimetype": "text/x-python",
   "name": "python",
   "nbconvert_exporter": "python",
   "pygments_lexer": "ipython3",
   "version": "3.9.13"
  }
 },
 "nbformat": 4,
 "nbformat_minor": 5
}
