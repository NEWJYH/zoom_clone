{
 "cells": [
  {
   "cell_type": "markdown",
   "id": "ef273c64",
   "metadata": {},
   "source": [
    "# NodeJS로 WebSocket 서버 만들기\n",
    "\n",
    "## ws package로 만들기\n",
    "npm : https://www.npmjs.com/package/ws\n",
    "\n",
    "- websocket protocol을 실행하는 package\n",
    "\n",
    "- ws는 implementation일 뿐 채팅룸을 만들수는 없음\n",
    "- 채팅룸은 ws와 관계가 없음\n",
    "- 특유의 logic을 우리가 구현해야 함\n",
    "\n",
    "- ws를 사용한 framework를 만든 개발자들이 있음\n",
    "- 이미 채팅방의 기능이 있음\n",
    "\n",
    "- ws는 webSocket의 core(중심적 핵심적인)임\n",
    "- 부가적인 유틸리티는 없음\n",
    "\n",
    "- ws를 사용하는 framework를 알려줄 예정\n",
    "- 채팅방 같이 도움이 되는 function들이 많음"
   ]
  },
  {
   "cell_type": "markdown",
   "id": "eed5b57a",
   "metadata": {},
   "source": [
    "## 01 ws 설치\n",
    "\n",
    "```shell\n",
    "\n",
    "yarn add ws\n",
    "\n",
    "```\n",
    "\n",
    "- ws 서버를 따로 만들지 않고 express 서버와 합칠 것\n",
    "\n",
    "- express로 같은 서버에 ws 기능을 설치 할것 \n"
   ]
  },
  {
   "cell_type": "markdown",
   "id": "57a15f96",
   "metadata": {},
   "source": [
    "## 02 express  ws : WebsocketServer 만들기\n",
    "###### server.js\n",
    "\n",
    "```javascript\n",
    "\n",
    "import WebSocket from \"ws\";\n",
    "\n",
    "import http from \"http\";\n",
    "\n",
    "import express from \"express\";\n",
    "\n",
    "const app = express();\n",
    "const port = 3000;\n",
    "\n",
    "// json file 입출력 설정\n",
    "app.use(express.json());\n",
    "\n",
    "// pug 설정\n",
    "app.set(\"view engine\", \"pug\");\n",
    "app.set(\"views\", __dirname + \"/views\");\n",
    "\n",
    "// static 작업\n",
    "app.use(\"/public\", express.static(__dirname + \"/public\"));\n",
    "\n",
    "// route 설정\n",
    "app.get(\"/\", (_, res) => res.render(\"home\"));\n",
    "app.get(\"/*\", (_, res) => res.redirect(\"/\"));\n",
    "\n",
    "// ws 설정\n",
    "const handleListen = () => console.log(`Listening on http://localhost:${port}`);\n",
    "const server = http.createServer(app);\n",
    "const wss = new WebSocket.Server({ server });\n",
    "// http와 webSocket 둘다 작동시키기 위함\n",
    "// WebSocket.Server({server]})를 넘기게 되면 http서버와 webSocket 서버둘다 돌릴수 있음\n",
    "// http 서버를 원하지 않는다면 인자로 넘길 필요 없음\n",
    "\n",
    "server.listen(port, handleListen);\n",
    "\n",
    "\n",
    "```"
   ]
  },
  {
   "cell_type": "markdown",
   "id": "f91bae9a",
   "metadata": {},
   "source": [
    "- 서버는 http와 ws 2개의 protocol을 이해할 수 있음"
   ]
  }
 ],
 "metadata": {
  "kernelspec": {
   "display_name": "Python 3 (ipykernel)",
   "language": "python",
   "name": "python3"
  },
  "language_info": {
   "codemirror_mode": {
    "name": "ipython",
    "version": 3
   },
   "file_extension": ".py",
   "mimetype": "text/x-python",
   "name": "python",
   "nbconvert_exporter": "python",
   "pygments_lexer": "ipython3",
   "version": "3.9.13"
  }
 },
 "nbformat": 4,
 "nbformat_minor": 5
}
