{
 "cells": [
  {
   "cell_type": "markdown",
   "id": "c2c75a8e",
   "metadata": {},
   "source": [
    "# 소개\n",
    "p2p, WebRTC를 활용한 유저 간 화상통신\n"
   ]
  },
  {
   "cell_type": "markdown",
   "id": "d5d9b7e2",
   "metadata": {},
   "source": [
    "---"
   ]
  },
  {
   "cell_type": "markdown",
   "id": "2a8f5945",
   "metadata": {},
   "source": [
    "\n",
    "# 목표\n",
    "웹소켓을 활용해서 채팅방 생성, 개인 메시지 기능 등을 코드 100줄 이하로 구현하기"
   ]
  },
  {
   "cell_type": "markdown",
   "id": "78ee294e",
   "metadata": {},
   "source": [
    "---"
   ]
  },
  {
   "cell_type": "markdown",
   "id": "13b0796e",
   "metadata": {},
   "source": [
    "# 요구사항\n",
    "\n",
    "Express, Pug, NodeJS v14.17.3 이상"
   ]
  },
  {
   "cell_type": "markdown",
   "id": "77722467",
   "metadata": {},
   "source": [
    "---"
   ]
  }
 ],
 "metadata": {
  "kernelspec": {
   "display_name": "Python 3 (ipykernel)",
   "language": "python",
   "name": "python3"
  },
  "language_info": {
   "codemirror_mode": {
    "name": "ipython",
    "version": 3
   },
   "file_extension": ".py",
   "mimetype": "text/x-python",
   "name": "python",
   "nbconvert_exporter": "python",
   "pygments_lexer": "ipython3",
   "version": "3.9.13"
  }
 },
 "nbformat": 4,
 "nbformat_minor": 5
}
