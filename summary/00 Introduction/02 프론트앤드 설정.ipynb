{
 "cells": [
  {
   "cell_type": "markdown",
   "id": "7cea74c0",
   "metadata": {},
   "source": [
    "# static files 또는 유저들에게 가게 될 파일"
   ]
  },
  {
   "cell_type": "markdown",
   "id": "6409affc",
   "metadata": {},
   "source": [
    "- webpack 사용하지 않음"
   ]
  },
  {
   "cell_type": "markdown",
   "id": "a40f4580",
   "metadata": {},
   "source": [
    "## 01 pug 설정 및 파일 구조"
   ]
  },
  {
   "attachments": {
    "image-4.png": {
     "image/png": "[encoded data removed]"
    }
   },
   "cell_type": "markdown",
   "id": "ea3c5561",
   "metadata": {},
   "source": [
    "### 폴더 구조\n",
    "![image-4.png](attachment:image-4.png)\n",
    "\n",
    "- server.js BackEnd\n",
    "- app.js FrontEnd\n",
    "\n",
    "### pug 기본 구조 셋팅\n",
    "\n",
    "###### server.js\n",
    "```javascript\n",
    "// pug 설정\n",
    "app.set(\"view engine\", \"pug\");\n",
    "app.set(\"views\", __dirname + \"/views\");\n",
    "\n",
    "\n",
    "```\n",
    "\n",
    "\n",
    "- pug 기본 구조 셋팅"
   ]
  },
  {
   "cell_type": "markdown",
   "id": "78e7f2c1",
   "metadata": {},
   "source": [
    "## 02 route 설정\n",
    "###### server.js\n",
    "\n",
    "```javascript\n",
    "\n",
    "// route 설정\n",
    "app.get(\"/\", (req, res) => res.render(\"home\"));\n",
    "```"
   ]
  },
  {
   "cell_type": "markdown",
   "id": "414480cf",
   "metadata": {},
   "source": [
    "- express에서 할일은 이게 끝\n",
    "\n",
    "- 나머지는 websocket에서 실시간으로 일어날 것"
   ]
  },
  {
   "cell_type": "markdown",
   "id": "b7f60dc8",
   "metadata": {},
   "source": [
    "## 03 static 작업\n",
    "\n",
    "##### server.js\n",
    "```javascript\n",
    "// static 작업\n",
    "app.use(\"/public\", express.static(__dirname + \"/public\"));\n",
    "\n",
    "```\n",
    "#### home.pug\n",
    "```pug\n",
    "doctype html\n",
    "html(lang=\"en\")\n",
    "  head\n",
    "    meta(charset=\"UTF-8\")\n",
    "    meta(http-equiv=\"X-UA-Compatible\", content=\"IE=edge\")\n",
    "    meta(name=\"viewport\", content=\"width=device-width, initial-scale=1.0\")\n",
    "    title Joom\n",
    "  body \n",
    "    h1 It works!\n",
    "    script(src=\"/public/js/app.js\") \n",
    "```"
   ]
  },
  {
   "cell_type": "markdown",
   "id": "d0909a87",
   "metadata": {},
   "source": [
    "## 04 nodemon 설정변경\n",
    "\n",
    "###### 프론트 앤드 자바스크립트 파일을 수정할 때는 nodemon이 새로고침하지 않게 바꾸기\n",
    "###### nodemon.json 수정\n",
    "```json\n",
    "{\n",
    "  \"ignore\": [\"src/public/*\"],\n",
    "  \"exec\": \"babel-node src/server.js\"\n",
    "}\n",
    "\n",
    "```\n"
   ]
  },
  {
   "cell_type": "markdown",
   "id": "26c7b237",
   "metadata": {},
   "source": [
    "## 05 MVP CSS 사용하기\n",
    "\n",
    "https://andybrewer.github.io/mvp/\n",
    "\n",
    "```html\n",
    "<link rel=\"stylesheet\" href=\"https://unpkg.com/mvp.css@1.12/mvp.css\"> \n",
    "```\n",
    "\n",
    "- 기본적인 html 태그를 좀더 보기 좋게 바꿔줌 \n",
    "\n",
    "- 기본 설정 중앙정렬"
   ]
  },
  {
   "cell_type": "markdown",
   "id": "4100c4e7",
   "metadata": {},
   "source": [
    "---"
   ]
  },
  {
   "cell_type": "markdown",
   "id": "9c059b64",
   "metadata": {},
   "source": [
    "## server.js\n",
    "```javascript\n",
    "import express from \"express\";\n",
    "\n",
    "const app = express();\n",
    "const port = 3000;\n",
    "// json file 입출력 설정\n",
    "app.use(express.json());\n",
    "\n",
    "// pug 설정\n",
    "app.set(\"view engine\", \"pug\");\n",
    "app.set(\"views\", __dirname + \"/views\");\n",
    "\n",
    "// static 작업\n",
    "app.use(\"/public\", express.static(__dirname + \"/public\"));\n",
    "\n",
    "// route 설정\n",
    "app.get(\"/\", (req, res) => res.render(\"home\"));\n",
    "\n",
    "app.listen(port, () => {\n",
    "  console.log(`Joom app listening on port ${port}`);\n",
    "  console.log(`http://localhost:3000`);\n",
    "});\n",
    "\n",
    "```\n"
   ]
  },
  {
   "cell_type": "markdown",
   "id": "e1c63749",
   "metadata": {},
   "source": [
    "## home.pug\n",
    "\n",
    "```pug\n",
    "doctype html\n",
    "html(lang=\"en\")\n",
    "  head\n",
    "    meta(charset=\"UTF-8\")\n",
    "    meta(http-equiv=\"X-UA-Compatible\", content=\"IE=edge\")\n",
    "    meta(name=\"viewport\", content=\"width=device-width, initial-scale=1.0\")\n",
    "    title Joom\n",
    "    //- MVP CSS 사용\n",
    "    link(rel=\"stylesheet\", href=\"https://unpkg.com/mvp.css@1.12/mvp.css\") \n",
    "  body \n",
    "    header\n",
    "      h1 Joom \n",
    "    main \n",
    "      h2 Welcome to Joom \n",
    "    script(src=\"/public/js/app.js\") \n",
    "```"
   ]
  }
 ],
 "metadata": {
  "kernelspec": {
   "display_name": "Python 3 (ipykernel)",
   "language": "python",
   "name": "python3"
  },
  "language_info": {
   "codemirror_mode": {
    "name": "ipython",
    "version": 3
   },
   "file_extension": ".py",
   "mimetype": "text/x-python",
   "name": "python",
   "nbconvert_exporter": "python",
   "pygments_lexer": "ipython3",
   "version": "3.9.13"
  }
 },
 "nbformat": 4,
 "nbformat_minor": 5
}
