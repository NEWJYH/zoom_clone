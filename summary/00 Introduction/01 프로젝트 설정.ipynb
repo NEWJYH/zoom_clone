{
 "cells": [
  {
   "cell_type": "markdown",
   "id": "fe2fe307",
   "metadata": {},
   "source": [
    "# 프로젝트 설정\n",
    "\n",
    "NodeJS 프로젝트\n",
    "- package.json, Babel, Nodemon 설정"
   ]
  },
  {
   "cell_type": "markdown",
   "id": "69f81a34",
   "metadata": {},
   "source": [
    "---"
   ]
  },
  {
   "cell_type": "markdown",
   "id": "ce2d7ca4",
   "metadata": {},
   "source": [
    "\n",
    "## 1. package.json 설정\n",
    "\n",
    "```shell\n",
    "yarn init\n",
    "```"
   ]
  },
  {
   "cell_type": "markdown",
   "id": "c3535336",
   "metadata": {},
   "source": [
    "---"
   ]
  },
  {
   "cell_type": "markdown",
   "id": "47210699",
   "metadata": {},
   "source": [
    "## 2. package.json 수정\n",
    "\n",
    "```json\n",
    "{\n",
    "  \"name\": \"zoom\",\n",
    "  \"version\": \"1.0.0\",\n",
    "  \"description\": \"Zoom Clone using WebRTC and Websockets\",\n",
    "  \"license\": \"MIT\"\n",
    "}\n",
    "```\n"
   ]
  },
  {
   "cell_type": "markdown",
   "id": "51b8f95a",
   "metadata": {},
   "source": [
    "---\n"
   ]
  },
  {
   "cell_type": "markdown",
   "id": "8af02e37",
   "metadata": {},
   "source": [
    "\n",
    "## 3. nodemon 설치\n",
    "\n",
    "```shell\n",
    "yarn add -D nodemon\n",
    "\n",
    "touch nodemon.json\n",
    "\n",
    "```\n",
    "\n",
    "### nodemon.json\n",
    "```json\n",
    "{\n",
    "  \"exec\":\"babel-node src/server.js\"\n",
    "}\n",
    "```\n",
    "\n",
    "- babel-node 명령문을 실행 시킴\n",
    "\n",
    "\n"
   ]
  },
  {
   "cell_type": "markdown",
   "id": "1da19e42",
   "metadata": {},
   "source": [
    "---"
   ]
  },
  {
   "cell_type": "markdown",
   "id": "ce3096e6",
   "metadata": {},
   "source": [
    "## 4. babel 설치\n",
    "\n",
    "```shell\n",
    "touch babel.config.json\n",
    "\n",
    "yarn add -D @babel/core @babel/cli @babel/node @babel/preset-env\n",
    "\n",
    "```\n",
    "\n",
    "### babel.config.json\n",
    "```json\n",
    "{\n",
    "  \"presets\": [\"@babel/preset-env\"]\n",
    "}\n",
    "```\n",
    "\n",
    "\n",
    "\n",
    "### babel이란? \n",
    "\n",
    "- 자바스크립트 컴파일러\n",
    "\n",
    "- babel은 javascript로 결과물을 만들어주는 컴파일러\n",
    "\n",
    "- 소스 대 소스 컴파일러(transpiler)라고 불림\n",
    "\n",
    "### javascript로 변환하는 과정이 필요한 이유? \n",
    "\n",
    "- 하위 호환성을 위함 \n",
    "\n",
    "- typescript 든 coffeescript 든 javascript 로의 compile 이 필수가 되어야 하며,\n",
    "  이를 담당하는게 babel\n",
    "  \n",
    "### polyfill??\n",
    "- 폴리필(polyfill) 은 개발자가 특정 기능이 지원되지 않는 브라우저를 위해 \n",
    "  사용할 수 있는 코드 조각이나 플러그인을 의미\n",
    "\n",
    "- 브라우저에서 지원하지 않는 기능들에 대한 호환성 작업을 채워 넣는다고 해서 \n",
    "  polyfill 이라고 칭함\n",
    "\n",
    "### babel-polyfill\n",
    "- babel 은 이러한 polyfill 을 손쉽게 지원하기 위해 babel-polyfill 기능을 지원\n",
    "\n",
    "- 아까 이미 문법을 컴파일 해서 javascript 로 compile 한다고 했는데… \n",
    "  왜 polyfill 이 필요할까\n",
    "\n",
    "- babel 을 사용한다고 최신 함수를 사용할 수 있는 건 아님\n",
    "- babel 은 문법을 변환하여 javascript 로 변환하는 transpiler 역할만 할 뿐\n",
    "\n",
    "- 앞에서 설명한대로 polyfill 은 \n",
    "  프로그램이 처음에 시작될 때 지원하지 않는 기능들을 추가하는 것\n",
    "  \n",
    "- 즉, babel 은 컴파일시에 실행되고 babel-polyfill 은 런타임에 실행되는 것  \n",
    "  \n",
    "\n",
    "### 참고\n",
    "https://bravenamme.github.io/2020/02/12/what-is-babel/"
   ]
  },
  {
   "cell_type": "markdown",
   "id": "00aa39b6",
   "metadata": {},
   "source": [
    "---"
   ]
  },
  {
   "cell_type": "markdown",
   "id": "4c70d032",
   "metadata": {},
   "source": [
    "## 5. 기본 폴더 구조 만들기\n",
    "\n",
    "```shell\n",
    "mkdir src\n",
    "\n",
    "touch src/server.js\n",
    "\n",
    "```\n",
    "\n",
    "\n"
   ]
  },
  {
   "cell_type": "markdown",
   "id": "502fe649",
   "metadata": {},
   "source": [
    "## 6. package.json 수정\n",
    "```json\n",
    "{\n",
    "  \"name\": \"zoom\",\n",
    "  \"version\": \"1.0.0\",\n",
    "  \"description\": \"Zoom Clone using WebRTC and Websockets\",\n",
    "  \"license\": \"MIT\",\n",
    "  \"scripts\": {\n",
    "    \"dev\": \"nodemon\"\n",
    "  },\n",
    "  \"devDependencies\": {\n",
    "    \"@babel/cli\": \"^7.21.0\",\n",
    "    \"@babel/core\": \"^7.21.0\",\n",
    "    \"@babel/node\": \"^7.20.7\",\n",
    "    \"@babel/preset-env\": \"^7.20.2\",\n",
    "    \"nodemon\": \"^2.0.21\"\n",
    "  }\n",
    "}\n",
    "\n",
    "```\n",
    "- scripts dev -> nodemon -> nodemon.json !\n",
    "\n"
   ]
  },
  {
   "cell_type": "markdown",
   "id": "a1b33c93",
   "metadata": {},
   "source": [
    "## 7. express  설치\n",
    "```shell\n",
    "yarn add express\n",
    "```\n",
    "\n"
   ]
  },
  {
   "cell_type": "markdown",
   "id": "fd4915bc",
   "metadata": {},
   "source": [
    "## 8. pug 설치\n",
    "```shell\n",
    "yarn add pug\n",
    "```\n",
    "\n",
    "### pug란?\n",
    "\n",
    "- pug는 html을 조금 더 세련되게 쓸수 있는 템플릿 언어\n",
    "\n",
    "- express 뷰 엔진 \n",
    "\n",
    "### 사용법\n",
    "```javascript\n",
    "app.set(\"view engine\", \"pug\");\n",
    "```\n",
    "- 익스프레스는 html 파일을 저장할 수 있는 폴더의 기본 이름이 'views'이므로, \n",
    "  이것에 꼭 맞춰서 설정해 줘야 함\n",
    "  \n",
    "- home.html 대신 home.pug로 확장자를 바꿔 주기만 하면 됨\n",
    "https://pugjs.org/language/attributes.html\n",
    "\n",
    "### 참고\n",
    "https://velog.io/@riceintheramen/pug%EA%B0%80-%EB%AD%90%EC%98%88%EC%9A%94"
   ]
  },
  {
   "cell_type": "markdown",
   "id": "7fbf71ae",
   "metadata": {},
   "source": [
    "## 9. server.js 수정\n",
    "\n",
    "```javascript\n",
    "import express from \"express\";\n",
    "\n",
    "const app = express();\n",
    "\n",
    "const port = 3000;\n",
    "\n",
    "app.use(express.json());\n",
    "\n",
    "app.get(\"/\", (req, res) => {\n",
    "  res.send(\"Hello World\");\n",
    "});\n",
    "\n",
    "app.listen(port, () => {\n",
    "  console.log(`Example app listening on port ${port}`);\n",
    "});\n",
    "\n",
    "```"
   ]
  },
  {
   "cell_type": "markdown",
   "id": "e33e0355",
   "metadata": {},
   "source": [
    "## 10 서버 켜기\n",
    "\n",
    "```shell\n",
    "\n",
    "yarn dev\n",
    "\n",
    "```"
   ]
  }
 ],
 "metadata": {
  "kernelspec": {
   "display_name": "Python 3 (ipykernel)",
   "language": "python",
   "name": "python3"
  },
  "language_info": {
   "codemirror_mode": {
    "name": "ipython",
    "version": 3
   },
   "file_extension": ".py",
   "mimetype": "text/x-python",
   "name": "python",
   "nbconvert_exporter": "python",
   "pygments_lexer": "ipython3",
   "version": "3.9.13"
  }
 },
 "nbformat": 4,
 "nbformat_minor": 5
}
