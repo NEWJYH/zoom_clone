{
 "cells": [
  {
   "cell_type": "markdown",
   "id": "ae62e1af",
   "metadata": {},
   "source": [
    "# 문제\n",
    "\n",
    "- 동일 wifi가 아니라면 에러가 생김\n",
    "\n",
    "- stun server를 이용하여 해결"
   ]
  },
  {
   "cell_type": "markdown",
   "id": "1c201031",
   "metadata": {},
   "source": [
    "## STUN 서버는 장치에 공용주소를 알려주는 서버"
   ]
  }
 ],
 "metadata": {
  "kernelspec": {
   "display_name": "Python 3 (ipykernel)",
   "language": "python",
   "name": "python3"
  },
  "language_info": {
   "codemirror_mode": {
    "name": "ipython",
    "version": 3
   },
   "file_extension": ".py",
   "mimetype": "text/x-python",
   "name": "python",
   "nbconvert_exporter": "python",
   "pygments_lexer": "ipython3",
   "version": "3.9.13"
  }
 },
 "nbformat": 4,
 "nbformat_minor": 5
}
